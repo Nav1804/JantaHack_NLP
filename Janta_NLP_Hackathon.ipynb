{
 "cells": [
  {
   "cell_type": "code",
   "execution_count": 1,
   "metadata": {},
   "outputs": [],
   "source": [
    "######### Importing Libraries ##############\n",
    "import pandas as pd\n",
    "import numpy as np"
   ]
  },
  {
   "cell_type": "code",
   "execution_count": 2,
   "metadata": {},
   "outputs": [],
   "source": [
    "dat_1 = pd.read_csv(r'C:\\Users\\NAVIN\\Desktop\\Janta Hack\\train.csv') ## Reading train dataset\n",
    "dat_2 = pd.read_csv(r'C:\\Users\\NAVIN\\Desktop\\Janta Hack\\game_overview.csv') ## Reading game overview\n",
    "test_dat = pd.read_csv(r'C:\\Users\\NAVIN\\Desktop\\Janta Hack\\test.csv')"
   ]
  },
  {
   "cell_type": "code",
   "execution_count": 3,
   "metadata": {},
   "outputs": [
    {
     "data": {
      "text/plain": [
       "review_id            int64\n",
       "title               object\n",
       "year               float64\n",
       "user_review         object\n",
       "user_suggestion      int64\n",
       "dtype: object"
      ]
     },
     "execution_count": 3,
     "metadata": {},
     "output_type": "execute_result"
    }
   ],
   "source": [
    "dat_1.dtypes"
   ]
  },
  {
   "cell_type": "code",
   "execution_count": 4,
   "metadata": {},
   "outputs": [
    {
     "name": "stdout",
     "output_type": "stream",
     "text": [
      "(17494, 5)\n",
      "   review_id                        title    year  \\\n",
      "0          1  Spooky's Jump Scare Mansion  2016.0   \n",
      "1          2  Spooky's Jump Scare Mansion  2016.0   \n",
      "2          3  Spooky's Jump Scare Mansion  2016.0   \n",
      "3          4  Spooky's Jump Scare Mansion  2015.0   \n",
      "4          5  Spooky's Jump Scare Mansion  2015.0   \n",
      "\n",
      "                                         user_review  user_suggestion  \n",
      "0  I'm scared and hearing creepy voices.  So I'll...                1  \n",
      "1  Best game, more better than Sam Pepper's YouTu...                1  \n",
      "2  A littly iffy on the controls, but once you kn...                1  \n",
      "3  Great game, fun and colorful and all that.A si...                1  \n",
      "4  Not many games have the cute tag right next to...                1  \n"
     ]
    }
   ],
   "source": [
    "print(dat_1.shape)\n",
    "print(dat_1.head()) ## Top rows of train _dataset"
   ]
  },
  {
   "cell_type": "code",
   "execution_count": 5,
   "metadata": {},
   "outputs": [
    {
     "name": "stdout",
     "output_type": "stream",
     "text": [
      "(64, 5)\n",
      "                              title                          developer  \\\n",
      "0       Spooky's Jump Scare Mansion                       Lag Studios    \n",
      "1                    Sakura Clicker                      Winged Cloud    \n",
      "2                           WARMODE                           WARTEAM    \n",
      "3                   Fractured Space              Edge Case Games Ltd.    \n",
      "4  Counter-Strike: Global Offensive  Valve, Hidden Path Entertainment    \n",
      "\n",
      "               publisher                                               tags  \\\n",
      "0           Lag Studios   ['Horror', 'Free to Play', 'Cute', 'First-Pers...   \n",
      "1          Winged Cloud   ['Nudity', 'Anime', 'Free to Play', 'Mature', ...   \n",
      "2               WARTEAM   ['Early Access', 'Free to Play', 'FPS', 'Multi...   \n",
      "3  Edge Case Games Ltd.   ['Space', 'Multiplayer', 'Free to Play', 'PvP'...   \n",
      "4                 Valve   ['FPS', 'Multiplayer', 'Shooter', 'Action', 'T...   \n",
      "\n",
      "                                            overview  \n",
      "0  Can you survive 1000 rooms of cute terror? Or ...  \n",
      "1  The latest entry in the Sakura series is more ...  \n",
      "2  Free to play shooter about the confrontation o...  \n",
      "3  Take the helm of a gigantic capital ship and g...  \n",
      "4  Counter-Strike: Global Offensive (CS: GO) expa...  \n"
     ]
    }
   ],
   "source": [
    "print(dat_2.shape)\n",
    "print(dat_2.head()) ## To rows of test dataset"
   ]
  },
  {
   "cell_type": "code",
   "execution_count": 6,
   "metadata": {},
   "outputs": [
    {
     "data": {
      "text/plain": [
       "title        64\n",
       "developer    59\n",
       "publisher    54\n",
       "tags         64\n",
       "overview     62\n",
       "dtype: int64"
      ]
     },
     "execution_count": 6,
     "metadata": {},
     "output_type": "execute_result"
    }
   ],
   "source": [
    "dat_2.nunique()"
   ]
  },
  {
   "cell_type": "code",
   "execution_count": 7,
   "metadata": {},
   "outputs": [
    {
     "name": "stdout",
     "output_type": "stream",
     "text": [
      "review_id            0\n",
      "title                0\n",
      "year               178\n",
      "user_review          0\n",
      "user_suggestion      0\n",
      "dtype: int64\n",
      "review_id       0\n",
      "title           0\n",
      "year           67\n",
      "user_review     0\n",
      "dtype: int64\n"
     ]
    }
   ],
   "source": [
    "## Checking missing values ##\n",
    "print(dat_1.isnull().sum())\n",
    "print(test_dat.isnull().sum())"
   ]
  },
  {
   "cell_type": "code",
   "execution_count": 8,
   "metadata": {},
   "outputs": [],
   "source": [
    "## Imputing missing values by mode ##\n",
    "dat_1['year'] = dat_1['year'].astype('object')\n",
    "test_dat['year'] = test_dat['year'].astype('object')\n",
    "dat_1['year'] = dat_1['year'].fillna(dat_1['year'].mode().iloc[0])\n",
    "test_dat['year'] = test_dat['year'].fillna(test_dat['year'].mode().iloc[0])"
   ]
  },
  {
   "cell_type": "code",
   "execution_count": 9,
   "metadata": {},
   "outputs": [
    {
     "name": "stdout",
     "output_type": "stream",
     "text": [
      "review_id          0\n",
      "title              0\n",
      "year               0\n",
      "user_review        0\n",
      "user_suggestion    0\n",
      "dtype: int64\n",
      "review_id      0\n",
      "title          0\n",
      "year           0\n",
      "user_review    0\n",
      "dtype: int64\n"
     ]
    }
   ],
   "source": [
    "## Checking missing values ##\n",
    "print(dat_1.isnull().sum())\n",
    "print(test_dat.isnull().sum())"
   ]
  },
  {
   "cell_type": "code",
   "execution_count": 10,
   "metadata": {},
   "outputs": [
    {
     "data": {
      "text/html": [
       "<div>\n",
       "<style scoped>\n",
       "    .dataframe tbody tr th:only-of-type {\n",
       "        vertical-align: middle;\n",
       "    }\n",
       "\n",
       "    .dataframe tbody tr th {\n",
       "        vertical-align: top;\n",
       "    }\n",
       "\n",
       "    .dataframe thead th {\n",
       "        text-align: right;\n",
       "    }\n",
       "</style>\n",
       "<table border=\"1\" class=\"dataframe\">\n",
       "  <thead>\n",
       "    <tr style=\"text-align: right;\">\n",
       "      <th></th>\n",
       "      <th>review_id</th>\n",
       "      <th>title</th>\n",
       "      <th>year</th>\n",
       "      <th>user_review</th>\n",
       "      <th>user_suggestion</th>\n",
       "    </tr>\n",
       "  </thead>\n",
       "  <tbody>\n",
       "    <tr>\n",
       "      <th>0</th>\n",
       "      <td>1</td>\n",
       "      <td>Spooky's Jump Scare Mansion</td>\n",
       "      <td>2016.0</td>\n",
       "      <td>I'm scared and hearing creepy voices.  So I'll...</td>\n",
       "      <td>1</td>\n",
       "    </tr>\n",
       "    <tr>\n",
       "      <th>1</th>\n",
       "      <td>2</td>\n",
       "      <td>Spooky's Jump Scare Mansion</td>\n",
       "      <td>2016.0</td>\n",
       "      <td>Best game, more better than Sam Pepper's YouTu...</td>\n",
       "      <td>1</td>\n",
       "    </tr>\n",
       "    <tr>\n",
       "      <th>2</th>\n",
       "      <td>3</td>\n",
       "      <td>Spooky's Jump Scare Mansion</td>\n",
       "      <td>2016.0</td>\n",
       "      <td>A littly iffy on the controls, but once you kn...</td>\n",
       "      <td>1</td>\n",
       "    </tr>\n",
       "    <tr>\n",
       "      <th>3</th>\n",
       "      <td>4</td>\n",
       "      <td>Spooky's Jump Scare Mansion</td>\n",
       "      <td>2015.0</td>\n",
       "      <td>Great game, fun and colorful and all that.A si...</td>\n",
       "      <td>1</td>\n",
       "    </tr>\n",
       "    <tr>\n",
       "      <th>4</th>\n",
       "      <td>5</td>\n",
       "      <td>Spooky's Jump Scare Mansion</td>\n",
       "      <td>2015.0</td>\n",
       "      <td>Not many games have the cute tag right next to...</td>\n",
       "      <td>1</td>\n",
       "    </tr>\n",
       "  </tbody>\n",
       "</table>\n",
       "</div>"
      ],
      "text/plain": [
       "   review_id                        title    year  \\\n",
       "0          1  Spooky's Jump Scare Mansion  2016.0   \n",
       "1          2  Spooky's Jump Scare Mansion  2016.0   \n",
       "2          3  Spooky's Jump Scare Mansion  2016.0   \n",
       "3          4  Spooky's Jump Scare Mansion  2015.0   \n",
       "4          5  Spooky's Jump Scare Mansion  2015.0   \n",
       "\n",
       "                                         user_review  user_suggestion  \n",
       "0  I'm scared and hearing creepy voices.  So I'll...                1  \n",
       "1  Best game, more better than Sam Pepper's YouTu...                1  \n",
       "2  A littly iffy on the controls, but once you kn...                1  \n",
       "3  Great game, fun and colorful and all that.A si...                1  \n",
       "4  Not many games have the cute tag right next to...                1  "
      ]
     },
     "execution_count": 10,
     "metadata": {},
     "output_type": "execute_result"
    }
   ],
   "source": [
    "### Checking top rows of Train dataset ###\n",
    "dat_1.head()"
   ]
  },
  {
   "cell_type": "code",
   "execution_count": 11,
   "metadata": {},
   "outputs": [
    {
     "data": {
      "text/html": [
       "<div>\n",
       "<style scoped>\n",
       "    .dataframe tbody tr th:only-of-type {\n",
       "        vertical-align: middle;\n",
       "    }\n",
       "\n",
       "    .dataframe tbody tr th {\n",
       "        vertical-align: top;\n",
       "    }\n",
       "\n",
       "    .dataframe thead th {\n",
       "        text-align: right;\n",
       "    }\n",
       "</style>\n",
       "<table border=\"1\" class=\"dataframe\">\n",
       "  <thead>\n",
       "    <tr style=\"text-align: right;\">\n",
       "      <th></th>\n",
       "      <th>title</th>\n",
       "      <th>developer</th>\n",
       "      <th>publisher</th>\n",
       "      <th>tags</th>\n",
       "      <th>overview</th>\n",
       "    </tr>\n",
       "  </thead>\n",
       "  <tbody>\n",
       "    <tr>\n",
       "      <th>0</th>\n",
       "      <td>Spooky's Jump Scare Mansion</td>\n",
       "      <td>Lag Studios</td>\n",
       "      <td>Lag Studios</td>\n",
       "      <td>['Horror', 'Free to Play', 'Cute', 'First-Pers...</td>\n",
       "      <td>Can you survive 1000 rooms of cute terror? Or ...</td>\n",
       "    </tr>\n",
       "    <tr>\n",
       "      <th>1</th>\n",
       "      <td>Sakura Clicker</td>\n",
       "      <td>Winged Cloud</td>\n",
       "      <td>Winged Cloud</td>\n",
       "      <td>['Nudity', 'Anime', 'Free to Play', 'Mature', ...</td>\n",
       "      <td>The latest entry in the Sakura series is more ...</td>\n",
       "    </tr>\n",
       "    <tr>\n",
       "      <th>2</th>\n",
       "      <td>WARMODE</td>\n",
       "      <td>WARTEAM</td>\n",
       "      <td>WARTEAM</td>\n",
       "      <td>['Early Access', 'Free to Play', 'FPS', 'Multi...</td>\n",
       "      <td>Free to play shooter about the confrontation o...</td>\n",
       "    </tr>\n",
       "    <tr>\n",
       "      <th>3</th>\n",
       "      <td>Fractured Space</td>\n",
       "      <td>Edge Case Games Ltd.</td>\n",
       "      <td>Edge Case Games Ltd.</td>\n",
       "      <td>['Space', 'Multiplayer', 'Free to Play', 'PvP'...</td>\n",
       "      <td>Take the helm of a gigantic capital ship and g...</td>\n",
       "    </tr>\n",
       "    <tr>\n",
       "      <th>4</th>\n",
       "      <td>Counter-Strike: Global Offensive</td>\n",
       "      <td>Valve, Hidden Path Entertainment</td>\n",
       "      <td>Valve</td>\n",
       "      <td>['FPS', 'Multiplayer', 'Shooter', 'Action', 'T...</td>\n",
       "      <td>Counter-Strike: Global Offensive (CS: GO) expa...</td>\n",
       "    </tr>\n",
       "  </tbody>\n",
       "</table>\n",
       "</div>"
      ],
      "text/plain": [
       "                              title                          developer  \\\n",
       "0       Spooky's Jump Scare Mansion                       Lag Studios    \n",
       "1                    Sakura Clicker                      Winged Cloud    \n",
       "2                           WARMODE                           WARTEAM    \n",
       "3                   Fractured Space              Edge Case Games Ltd.    \n",
       "4  Counter-Strike: Global Offensive  Valve, Hidden Path Entertainment    \n",
       "\n",
       "               publisher                                               tags  \\\n",
       "0           Lag Studios   ['Horror', 'Free to Play', 'Cute', 'First-Pers...   \n",
       "1          Winged Cloud   ['Nudity', 'Anime', 'Free to Play', 'Mature', ...   \n",
       "2               WARTEAM   ['Early Access', 'Free to Play', 'FPS', 'Multi...   \n",
       "3  Edge Case Games Ltd.   ['Space', 'Multiplayer', 'Free to Play', 'PvP'...   \n",
       "4                 Valve   ['FPS', 'Multiplayer', 'Shooter', 'Action', 'T...   \n",
       "\n",
       "                                            overview  \n",
       "0  Can you survive 1000 rooms of cute terror? Or ...  \n",
       "1  The latest entry in the Sakura series is more ...  \n",
       "2  Free to play shooter about the confrontation o...  \n",
       "3  Take the helm of a gigantic capital ship and g...  \n",
       "4  Counter-Strike: Global Offensive (CS: GO) expa...  "
      ]
     },
     "execution_count": 11,
     "metadata": {},
     "output_type": "execute_result"
    }
   ],
   "source": [
    "dat_2.head()"
   ]
  },
  {
   "cell_type": "code",
   "execution_count": 12,
   "metadata": {},
   "outputs": [
    {
     "data": {
      "text/html": [
       "<div>\n",
       "<style scoped>\n",
       "    .dataframe tbody tr th:only-of-type {\n",
       "        vertical-align: middle;\n",
       "    }\n",
       "\n",
       "    .dataframe tbody tr th {\n",
       "        vertical-align: top;\n",
       "    }\n",
       "\n",
       "    .dataframe thead th {\n",
       "        text-align: right;\n",
       "    }\n",
       "</style>\n",
       "<table border=\"1\" class=\"dataframe\">\n",
       "  <thead>\n",
       "    <tr style=\"text-align: right;\">\n",
       "      <th></th>\n",
       "      <th>review_id</th>\n",
       "      <th>title</th>\n",
       "      <th>year</th>\n",
       "      <th>user_review</th>\n",
       "    </tr>\n",
       "  </thead>\n",
       "  <tbody>\n",
       "    <tr>\n",
       "      <th>0</th>\n",
       "      <td>1603</td>\n",
       "      <td>Counter-Strike: Global Offensive</td>\n",
       "      <td>2015.0</td>\n",
       "      <td>Nice graphics, new maps, weapons and models. B...</td>\n",
       "    </tr>\n",
       "    <tr>\n",
       "      <th>1</th>\n",
       "      <td>1604</td>\n",
       "      <td>Counter-Strike: Global Offensive</td>\n",
       "      <td>2018.0</td>\n",
       "      <td>I would not recommend getting into this at its...</td>\n",
       "    </tr>\n",
       "    <tr>\n",
       "      <th>2</th>\n",
       "      <td>1605</td>\n",
       "      <td>Counter-Strike: Global Offensive</td>\n",
       "      <td>2018.0</td>\n",
       "      <td>Edit 11/12/18I have tried playing CS:GO recent...</td>\n",
       "    </tr>\n",
       "    <tr>\n",
       "      <th>3</th>\n",
       "      <td>1606</td>\n",
       "      <td>Counter-Strike: Global Offensive</td>\n",
       "      <td>2015.0</td>\n",
       "      <td>The game is great. But the community is the wo...</td>\n",
       "    </tr>\n",
       "    <tr>\n",
       "      <th>4</th>\n",
       "      <td>1607</td>\n",
       "      <td>Counter-Strike: Global Offensive</td>\n",
       "      <td>2015.0</td>\n",
       "      <td>I thank TrulyRazor for buying this for me a lo...</td>\n",
       "    </tr>\n",
       "  </tbody>\n",
       "</table>\n",
       "</div>"
      ],
      "text/plain": [
       "   review_id                             title    year  \\\n",
       "0       1603  Counter-Strike: Global Offensive  2015.0   \n",
       "1       1604  Counter-Strike: Global Offensive  2018.0   \n",
       "2       1605  Counter-Strike: Global Offensive  2018.0   \n",
       "3       1606  Counter-Strike: Global Offensive  2015.0   \n",
       "4       1607  Counter-Strike: Global Offensive  2015.0   \n",
       "\n",
       "                                         user_review  \n",
       "0  Nice graphics, new maps, weapons and models. B...  \n",
       "1  I would not recommend getting into this at its...  \n",
       "2  Edit 11/12/18I have tried playing CS:GO recent...  \n",
       "3  The game is great. But the community is the wo...  \n",
       "4  I thank TrulyRazor for buying this for me a lo...  "
      ]
     },
     "execution_count": 12,
     "metadata": {},
     "output_type": "execute_result"
    }
   ],
   "source": [
    "test_dat.head()"
   ]
  },
  {
   "cell_type": "code",
   "execution_count": 13,
   "metadata": {},
   "outputs": [
    {
     "data": {
      "text/plain": [
       "1    9968\n",
       "0    7526\n",
       "Name: user_suggestion, dtype: int64"
      ]
     },
     "execution_count": 13,
     "metadata": {},
     "output_type": "execute_result"
    }
   ],
   "source": [
    "## Checking class imbalance ##\n",
    "dat_1[\"user_suggestion\"].value_counts()"
   ]
  },
  {
   "cell_type": "code",
   "execution_count": 14,
   "metadata": {},
   "outputs": [
    {
     "data": {
      "text/plain": [
       "['i',\n",
       " 'me',\n",
       " 'my',\n",
       " 'myself',\n",
       " 'we',\n",
       " 'our',\n",
       " 'ours',\n",
       " 'ourselves',\n",
       " 'you',\n",
       " \"you're\",\n",
       " \"you've\",\n",
       " \"you'll\",\n",
       " \"you'd\",\n",
       " 'your',\n",
       " 'yours',\n",
       " 'yourself',\n",
       " 'yourselves',\n",
       " 'he',\n",
       " 'him',\n",
       " 'his',\n",
       " 'himself',\n",
       " 'she',\n",
       " \"she's\",\n",
       " 'her',\n",
       " 'hers',\n",
       " 'herself',\n",
       " 'it',\n",
       " \"it's\",\n",
       " 'its',\n",
       " 'itself',\n",
       " 'they',\n",
       " 'them',\n",
       " 'their',\n",
       " 'theirs',\n",
       " 'themselves',\n",
       " 'what',\n",
       " 'which',\n",
       " 'who',\n",
       " 'whom',\n",
       " 'this',\n",
       " 'that',\n",
       " \"that'll\",\n",
       " 'these',\n",
       " 'those',\n",
       " 'am',\n",
       " 'is',\n",
       " 'are',\n",
       " 'was',\n",
       " 'were',\n",
       " 'be',\n",
       " 'been',\n",
       " 'being',\n",
       " 'have',\n",
       " 'has',\n",
       " 'had',\n",
       " 'having',\n",
       " 'do',\n",
       " 'does',\n",
       " 'did',\n",
       " 'doing',\n",
       " 'a',\n",
       " 'an',\n",
       " 'the',\n",
       " 'and',\n",
       " 'but',\n",
       " 'if',\n",
       " 'or',\n",
       " 'because',\n",
       " 'as',\n",
       " 'until',\n",
       " 'while',\n",
       " 'of',\n",
       " 'at',\n",
       " 'by',\n",
       " 'for',\n",
       " 'with',\n",
       " 'about',\n",
       " 'against',\n",
       " 'between',\n",
       " 'into',\n",
       " 'through',\n",
       " 'during',\n",
       " 'before',\n",
       " 'after',\n",
       " 'above',\n",
       " 'below',\n",
       " 'to',\n",
       " 'from',\n",
       " 'up',\n",
       " 'down',\n",
       " 'in',\n",
       " 'out',\n",
       " 'on',\n",
       " 'off',\n",
       " 'over',\n",
       " 'under',\n",
       " 'again',\n",
       " 'further',\n",
       " 'then',\n",
       " 'once',\n",
       " 'here',\n",
       " 'there',\n",
       " 'when',\n",
       " 'where',\n",
       " 'why',\n",
       " 'how',\n",
       " 'all',\n",
       " 'any',\n",
       " 'both',\n",
       " 'each',\n",
       " 'few',\n",
       " 'more',\n",
       " 'most',\n",
       " 'other',\n",
       " 'some',\n",
       " 'such',\n",
       " 'no',\n",
       " 'nor',\n",
       " 'not',\n",
       " 'only',\n",
       " 'own',\n",
       " 'same',\n",
       " 'so',\n",
       " 'than',\n",
       " 'too',\n",
       " 'very',\n",
       " 's',\n",
       " 't',\n",
       " 'can',\n",
       " 'will',\n",
       " 'just',\n",
       " 'don',\n",
       " \"don't\",\n",
       " 'should',\n",
       " \"should've\",\n",
       " 'now',\n",
       " 'd',\n",
       " 'll',\n",
       " 'm',\n",
       " 'o',\n",
       " 're',\n",
       " 've',\n",
       " 'y',\n",
       " 'ain',\n",
       " 'aren',\n",
       " \"aren't\",\n",
       " 'couldn',\n",
       " \"couldn't\",\n",
       " 'didn',\n",
       " \"didn't\",\n",
       " 'doesn',\n",
       " \"doesn't\",\n",
       " 'hadn',\n",
       " \"hadn't\",\n",
       " 'hasn',\n",
       " \"hasn't\",\n",
       " 'haven',\n",
       " \"haven't\",\n",
       " 'isn',\n",
       " \"isn't\",\n",
       " 'ma',\n",
       " 'mightn',\n",
       " \"mightn't\",\n",
       " 'mustn',\n",
       " \"mustn't\",\n",
       " 'needn',\n",
       " \"needn't\",\n",
       " 'shan',\n",
       " \"shan't\",\n",
       " 'shouldn',\n",
       " \"shouldn't\",\n",
       " 'wasn',\n",
       " \"wasn't\",\n",
       " 'weren',\n",
       " \"weren't\",\n",
       " 'won',\n",
       " \"won't\",\n",
       " 'wouldn',\n",
       " \"wouldn't\"]"
      ]
     },
     "execution_count": 14,
     "metadata": {},
     "output_type": "execute_result"
    }
   ],
   "source": [
    "### Coverting into text data ###\n",
    "import string\n",
    "from nltk.corpus import stopwords\n",
    "stp = stopwords.words(\"English\")\n",
    "stp"
   ]
  },
  {
   "cell_type": "code",
   "execution_count": 15,
   "metadata": {},
   "outputs": [],
   "source": [
    "## Removing punctuation and topwords\n",
    "def text_process(sugg):\n",
    "    nopunc = [char for char in sugg if char not in string.punctuation]\n",
    "    nopunc = \"\".join(nopunc)\n",
    "    return [word for word in nopunc.split() if word not in stp]"
   ]
  },
  {
   "cell_type": "code",
   "execution_count": 16,
   "metadata": {},
   "outputs": [],
   "source": [
    "### Extracting user review and user suggestion ###\n",
    "dat_tr = dat_1\n",
    "dat_ts = test_dat\n",
    "\n",
    "## Making all the characters into lower case##\n",
    "dat_tr['user_review'] = dat_tr['user_review'].apply(str.lower)\n",
    "dat_ts['user_review'] = dat_ts['user_review'].apply(str.lower)"
   ]
  },
  {
   "cell_type": "code",
   "execution_count": 17,
   "metadata": {},
   "outputs": [],
   "source": [
    "## Removing stopwords ##\n",
    "dc_tr = dat_tr.user_review.apply(text_process)\n",
    "dc_tr = pd.concat([dc_tr,dat_tr['user_suggestion']],axis = 1)"
   ]
  },
  {
   "cell_type": "code",
   "execution_count": 18,
   "metadata": {},
   "outputs": [
    {
     "data": {
      "text/html": [
       "<div>\n",
       "<style scoped>\n",
       "    .dataframe tbody tr th:only-of-type {\n",
       "        vertical-align: middle;\n",
       "    }\n",
       "\n",
       "    .dataframe tbody tr th {\n",
       "        vertical-align: top;\n",
       "    }\n",
       "\n",
       "    .dataframe thead th {\n",
       "        text-align: right;\n",
       "    }\n",
       "</style>\n",
       "<table border=\"1\" class=\"dataframe\">\n",
       "  <thead>\n",
       "    <tr style=\"text-align: right;\">\n",
       "      <th></th>\n",
       "      <th>user_review</th>\n",
       "      <th>user_suggestion</th>\n",
       "    </tr>\n",
       "  </thead>\n",
       "  <tbody>\n",
       "    <tr>\n",
       "      <th>17489</th>\n",
       "      <td>[arguably, single, greatest, mmorp, exists, to...</td>\n",
       "      <td>1</td>\n",
       "    </tr>\n",
       "    <tr>\n",
       "      <th>17490</th>\n",
       "      <td>[older, game, sure, charm, holds, special, pla...</td>\n",
       "      <td>1</td>\n",
       "    </tr>\n",
       "    <tr>\n",
       "      <th>17491</th>\n",
       "      <td>[frist, started, playing, everquest, 2, amazin...</td>\n",
       "      <td>1</td>\n",
       "    </tr>\n",
       "    <tr>\n",
       "      <th>17492</th>\n",
       "      <td>[cool, game, thing, really, pisses, ridable, t...</td>\n",
       "      <td>1</td>\n",
       "    </tr>\n",
       "    <tr>\n",
       "      <th>17493</th>\n",
       "      <td>[game, since, little, kid, always, since, stil...</td>\n",
       "      <td>1</td>\n",
       "    </tr>\n",
       "  </tbody>\n",
       "</table>\n",
       "</div>"
      ],
      "text/plain": [
       "                                             user_review  user_suggestion\n",
       "17489  [arguably, single, greatest, mmorp, exists, to...                1\n",
       "17490  [older, game, sure, charm, holds, special, pla...                1\n",
       "17491  [frist, started, playing, everquest, 2, amazin...                1\n",
       "17492  [cool, game, thing, really, pisses, ridable, t...                1\n",
       "17493  [game, since, little, kid, always, since, stil...                1"
      ]
     },
     "execution_count": 18,
     "metadata": {},
     "output_type": "execute_result"
    }
   ],
   "source": [
    "dc_tr.tail()"
   ]
  },
  {
   "cell_type": "code",
   "execution_count": 19,
   "metadata": {},
   "outputs": [
    {
     "data": {
      "text/html": [
       "<div>\n",
       "<style scoped>\n",
       "    .dataframe tbody tr th:only-of-type {\n",
       "        vertical-align: middle;\n",
       "    }\n",
       "\n",
       "    .dataframe tbody tr th {\n",
       "        vertical-align: top;\n",
       "    }\n",
       "\n",
       "    .dataframe thead th {\n",
       "        text-align: right;\n",
       "    }\n",
       "</style>\n",
       "<table border=\"1\" class=\"dataframe\">\n",
       "  <thead>\n",
       "    <tr style=\"text-align: right;\">\n",
       "      <th></th>\n",
       "      <th>user_review</th>\n",
       "      <th>user_suggestion</th>\n",
       "    </tr>\n",
       "  </thead>\n",
       "  <tbody>\n",
       "    <tr>\n",
       "      <th>8</th>\n",
       "      <td>[somewhere, light, hearted, happy, parody, afr...</td>\n",
       "      <td>0</td>\n",
       "    </tr>\n",
       "    <tr>\n",
       "      <th>91</th>\n",
       "      <td>[nice, elements, overall, quite, boring, repet...</td>\n",
       "      <td>0</td>\n",
       "    </tr>\n",
       "    <tr>\n",
       "      <th>93</th>\n",
       "      <td>[boring, jump, scares, 0, effect, youre, one, ...</td>\n",
       "      <td>0</td>\n",
       "    </tr>\n",
       "    <tr>\n",
       "      <th>99</th>\n",
       "      <td>[hell, rubbish, theres, nothing, go, one, door...</td>\n",
       "      <td>0</td>\n",
       "    </tr>\n",
       "    <tr>\n",
       "      <th>100</th>\n",
       "      <td>[bad, game, waaaay, slow, practically, nothing...</td>\n",
       "      <td>0</td>\n",
       "    </tr>\n",
       "  </tbody>\n",
       "</table>\n",
       "</div>"
      ],
      "text/plain": [
       "                                           user_review  user_suggestion\n",
       "8    [somewhere, light, hearted, happy, parody, afr...                0\n",
       "91   [nice, elements, overall, quite, boring, repet...                0\n",
       "93   [boring, jump, scares, 0, effect, youre, one, ...                0\n",
       "99   [hell, rubbish, theres, nothing, go, one, door...                0\n",
       "100  [bad, game, waaaay, slow, practically, nothing...                0"
      ]
     },
     "execution_count": 19,
     "metadata": {},
     "output_type": "execute_result"
    }
   ],
   "source": [
    "recommend = dc_tr[dc_tr['user_suggestion']==1]\n",
    "not_recommend = dc_tr[dc_tr['user_suggestion']==0]\n",
    "\n",
    "not_recommend.head()"
   ]
  },
  {
   "cell_type": "code",
   "execution_count": 20,
   "metadata": {},
   "outputs": [
    {
     "data": {
      "text/plain": [
       "<matplotlib.image.AxesImage at 0x1f9e5b03a90>"
      ]
     },
     "execution_count": 20,
     "metadata": {},
     "output_type": "execute_result"
    },
    {
     "data": {
      "image/png": "[encoded data removed]",
      "text/plain": [
       "<Figure size 432x288 with 1 Axes>"
      ]
     },
     "metadata": {
      "needs_background": "light"
     },
     "output_type": "display_data"
    }
   ],
   "source": [
    "## Word Cloud ##\n",
    "### Build the word cloud\n",
    "import matplotlib.pyplot as plt\n",
    "from wordcloud import WordCloud\n",
    "\n",
    "cloud = WordCloud().generate(str(recommend.user_review))\n",
    "\n",
    "plt.imshow(cloud)"
   ]
  },
  {
   "cell_type": "code",
   "execution_count": 21,
   "metadata": {},
   "outputs": [
    {
     "data": {
      "text/plain": [
       "<matplotlib.image.AxesImage at 0x1f9e5bb89b0>"
      ]
     },
     "execution_count": 21,
     "metadata": {},
     "output_type": "execute_result"
    },
    {
     "data": {
      "image/png": "[encoded data removed]",
      "text/plain": [
       "<Figure size 432x288 with 1 Axes>"
      ]
     },
     "metadata": {
      "needs_background": "light"
     },
     "output_type": "display_data"
    }
   ],
   "source": [
    "cloud = WordCloud().generate(str(not_recommend.user_review))\n",
    "plt.imshow(cloud)"
   ]
  },
  {
   "cell_type": "code",
   "execution_count": 22,
   "metadata": {},
   "outputs": [
    {
     "data": {
      "text/html": [
       "<div>\n",
       "<style scoped>\n",
       "    .dataframe tbody tr th:only-of-type {\n",
       "        vertical-align: middle;\n",
       "    }\n",
       "\n",
       "    .dataframe tbody tr th {\n",
       "        vertical-align: top;\n",
       "    }\n",
       "\n",
       "    .dataframe thead th {\n",
       "        text-align: right;\n",
       "    }\n",
       "</style>\n",
       "<table border=\"1\" class=\"dataframe\">\n",
       "  <thead>\n",
       "    <tr style=\"text-align: right;\">\n",
       "      <th></th>\n",
       "      <th>review_id</th>\n",
       "      <th>title</th>\n",
       "      <th>year</th>\n",
       "      <th>user_review</th>\n",
       "      <th>user_suggestion</th>\n",
       "    </tr>\n",
       "  </thead>\n",
       "  <tbody>\n",
       "    <tr>\n",
       "      <th>0</th>\n",
       "      <td>1</td>\n",
       "      <td>Spooky's Jump Scare Mansion</td>\n",
       "      <td>2016.0</td>\n",
       "      <td>im scared and hearing creepy voices  so ill pa...</td>\n",
       "      <td>1</td>\n",
       "    </tr>\n",
       "    <tr>\n",
       "      <th>1</th>\n",
       "      <td>2</td>\n",
       "      <td>Spooky's Jump Scare Mansion</td>\n",
       "      <td>2016.0</td>\n",
       "      <td>best game more better than sam peppers youtube...</td>\n",
       "      <td>1</td>\n",
       "    </tr>\n",
       "    <tr>\n",
       "      <th>2</th>\n",
       "      <td>3</td>\n",
       "      <td>Spooky's Jump Scare Mansion</td>\n",
       "      <td>2016.0</td>\n",
       "      <td>a littly iffy on the controls but once you kno...</td>\n",
       "      <td>1</td>\n",
       "    </tr>\n",
       "    <tr>\n",
       "      <th>3</th>\n",
       "      <td>4</td>\n",
       "      <td>Spooky's Jump Scare Mansion</td>\n",
       "      <td>2015.0</td>\n",
       "      <td>great game fun and colorful and all thata side...</td>\n",
       "      <td>1</td>\n",
       "    </tr>\n",
       "    <tr>\n",
       "      <th>4</th>\n",
       "      <td>5</td>\n",
       "      <td>Spooky's Jump Scare Mansion</td>\n",
       "      <td>2015.0</td>\n",
       "      <td>not many games have the cute tag right next to...</td>\n",
       "      <td>1</td>\n",
       "    </tr>\n",
       "  </tbody>\n",
       "</table>\n",
       "</div>"
      ],
      "text/plain": [
       "   review_id                        title    year  \\\n",
       "0          1  Spooky's Jump Scare Mansion  2016.0   \n",
       "1          2  Spooky's Jump Scare Mansion  2016.0   \n",
       "2          3  Spooky's Jump Scare Mansion  2016.0   \n",
       "3          4  Spooky's Jump Scare Mansion  2015.0   \n",
       "4          5  Spooky's Jump Scare Mansion  2015.0   \n",
       "\n",
       "                                         user_review  user_suggestion  \n",
       "0  im scared and hearing creepy voices  so ill pa...                1  \n",
       "1  best game more better than sam peppers youtube...                1  \n",
       "2  a littly iffy on the controls but once you kno...                1  \n",
       "3  great game fun and colorful and all thata side...                1  \n",
       "4  not many games have the cute tag right next to...                1  "
      ]
     },
     "execution_count": 22,
     "metadata": {},
     "output_type": "execute_result"
    }
   ],
   "source": [
    "### Removing punctuation and numbers ##\n",
    "import re\n",
    "\n",
    "for i in range(0,dat_tr.shape[0]):\n",
    "    dat_tr.loc[i,'user_review']= re.sub(r'['+string.punctuation+']','',dat_tr.loc[i,'user_review'])\n",
    "    dat_tr.loc[i,'user_review']= re.sub(r'\\d+','',dat_tr.loc[i,'user_review'])\n",
    "\n",
    "dat_tr.head()"
   ]
  },
  {
   "cell_type": "code",
   "execution_count": 23,
   "metadata": {},
   "outputs": [
    {
     "data": {
      "text/html": [
       "<div>\n",
       "<style scoped>\n",
       "    .dataframe tbody tr th:only-of-type {\n",
       "        vertical-align: middle;\n",
       "    }\n",
       "\n",
       "    .dataframe tbody tr th {\n",
       "        vertical-align: top;\n",
       "    }\n",
       "\n",
       "    .dataframe thead th {\n",
       "        text-align: right;\n",
       "    }\n",
       "</style>\n",
       "<table border=\"1\" class=\"dataframe\">\n",
       "  <thead>\n",
       "    <tr style=\"text-align: right;\">\n",
       "      <th></th>\n",
       "      <th>review_id</th>\n",
       "      <th>title</th>\n",
       "      <th>year</th>\n",
       "      <th>user_review</th>\n",
       "    </tr>\n",
       "  </thead>\n",
       "  <tbody>\n",
       "    <tr>\n",
       "      <th>0</th>\n",
       "      <td>1603</td>\n",
       "      <td>Counter-Strike: Global Offensive</td>\n",
       "      <td>2015.0</td>\n",
       "      <td>nice graphics new maps weapons and models but ...</td>\n",
       "    </tr>\n",
       "    <tr>\n",
       "      <th>1</th>\n",
       "      <td>1604</td>\n",
       "      <td>Counter-Strike: Global Offensive</td>\n",
       "      <td>2018.0</td>\n",
       "      <td>i would not recommend getting into this at its...</td>\n",
       "    </tr>\n",
       "    <tr>\n",
       "      <th>2</th>\n",
       "      <td>1605</td>\n",
       "      <td>Counter-Strike: Global Offensive</td>\n",
       "      <td>2018.0</td>\n",
       "      <td>edit i have tried playing csgo recently and it...</td>\n",
       "    </tr>\n",
       "    <tr>\n",
       "      <th>3</th>\n",
       "      <td>1606</td>\n",
       "      <td>Counter-Strike: Global Offensive</td>\n",
       "      <td>2015.0</td>\n",
       "      <td>the game is great but the community is the wor...</td>\n",
       "    </tr>\n",
       "    <tr>\n",
       "      <th>4</th>\n",
       "      <td>1607</td>\n",
       "      <td>Counter-Strike: Global Offensive</td>\n",
       "      <td>2015.0</td>\n",
       "      <td>i thank trulyrazor for buying this for me a lo...</td>\n",
       "    </tr>\n",
       "  </tbody>\n",
       "</table>\n",
       "</div>"
      ],
      "text/plain": [
       "   review_id                             title    year  \\\n",
       "0       1603  Counter-Strike: Global Offensive  2015.0   \n",
       "1       1604  Counter-Strike: Global Offensive  2018.0   \n",
       "2       1605  Counter-Strike: Global Offensive  2018.0   \n",
       "3       1606  Counter-Strike: Global Offensive  2015.0   \n",
       "4       1607  Counter-Strike: Global Offensive  2015.0   \n",
       "\n",
       "                                         user_review  \n",
       "0  nice graphics new maps weapons and models but ...  \n",
       "1  i would not recommend getting into this at its...  \n",
       "2  edit i have tried playing csgo recently and it...  \n",
       "3  the game is great but the community is the wor...  \n",
       "4  i thank trulyrazor for buying this for me a lo...  "
      ]
     },
     "execution_count": 23,
     "metadata": {},
     "output_type": "execute_result"
    }
   ],
   "source": [
    "for i in range(0,dat_ts.shape[0]):\n",
    "    dat_ts.loc[i,'user_review']= re.sub('['+string.punctuation+']','',dat_ts.loc[i,'user_review'])\n",
    "    dat_ts.loc[i,'user_review']= re.sub(r'\\d+','',dat_ts.loc[i,'user_review'])\n",
    "\n",
    "dat_ts.head()"
   ]
  },
  {
   "cell_type": "code",
   "execution_count": 51,
   "metadata": {},
   "outputs": [],
   "source": [
    "### Removing numbers ###\n"
   ]
  },
  {
   "cell_type": "code",
   "execution_count": 24,
   "metadata": {},
   "outputs": [
    {
     "data": {
      "text/plain": [
       "review_id             int64\n",
       "title                object\n",
       "year                float64\n",
       "user_review          object\n",
       "user_suggestion    category\n",
       "dtype: object"
      ]
     },
     "execution_count": 24,
     "metadata": {},
     "output_type": "execute_result"
    }
   ],
   "source": [
    "dat_tr['user_suggestion'] = dat_tr['user_suggestion'].astype('category')\n",
    "dat_tr.dtypes"
   ]
  },
  {
   "cell_type": "code",
   "execution_count": 25,
   "metadata": {},
   "outputs": [
    {
     "data": {
      "text/html": [
       "<div>\n",
       "<style scoped>\n",
       "    .dataframe tbody tr th:only-of-type {\n",
       "        vertical-align: middle;\n",
       "    }\n",
       "\n",
       "    .dataframe tbody tr th {\n",
       "        vertical-align: top;\n",
       "    }\n",
       "\n",
       "    .dataframe thead th {\n",
       "        text-align: right;\n",
       "    }\n",
       "</style>\n",
       "<table border=\"1\" class=\"dataframe\">\n",
       "  <thead>\n",
       "    <tr style=\"text-align: right;\">\n",
       "      <th></th>\n",
       "      <th>review_id</th>\n",
       "      <th>title_AdventureQuest 3D</th>\n",
       "      <th>title_Aura Kingdom</th>\n",
       "      <th>title_Black Squad</th>\n",
       "      <th>title_Bless Online</th>\n",
       "      <th>title_Bloons TD Battles</th>\n",
       "      <th>title_Brawlhalla</th>\n",
       "      <th>title_Business Tour - Board Game with Online Multiplayer</th>\n",
       "      <th>title_Champions Online</th>\n",
       "      <th>title_Counter-Strike: Global Offensive</th>\n",
       "      <th>...</th>\n",
       "      <th>title_Tree of Savior (English Ver.)</th>\n",
       "      <th>title_Trove</th>\n",
       "      <th>title_VEGA Conflict</th>\n",
       "      <th>title_WARMODE</th>\n",
       "      <th>title_War Thunder</th>\n",
       "      <th>title_World of Guns: Gun Disassembly</th>\n",
       "      <th>title_World of Tanks Blitz</th>\n",
       "      <th>title_World of Warships</th>\n",
       "      <th>title_Yu-Gi-Oh! Duel Links</th>\n",
       "      <th>title_theHunter Classic</th>\n",
       "    </tr>\n",
       "  </thead>\n",
       "  <tbody>\n",
       "    <tr>\n",
       "      <th>0</th>\n",
       "      <td>1</td>\n",
       "      <td>0</td>\n",
       "      <td>0</td>\n",
       "      <td>0</td>\n",
       "      <td>0</td>\n",
       "      <td>0</td>\n",
       "      <td>0</td>\n",
       "      <td>0</td>\n",
       "      <td>0</td>\n",
       "      <td>0</td>\n",
       "      <td>...</td>\n",
       "      <td>0</td>\n",
       "      <td>0</td>\n",
       "      <td>0</td>\n",
       "      <td>0</td>\n",
       "      <td>0</td>\n",
       "      <td>0</td>\n",
       "      <td>0</td>\n",
       "      <td>0</td>\n",
       "      <td>0</td>\n",
       "      <td>0</td>\n",
       "    </tr>\n",
       "    <tr>\n",
       "      <th>1</th>\n",
       "      <td>2</td>\n",
       "      <td>0</td>\n",
       "      <td>0</td>\n",
       "      <td>0</td>\n",
       "      <td>0</td>\n",
       "      <td>0</td>\n",
       "      <td>0</td>\n",
       "      <td>0</td>\n",
       "      <td>0</td>\n",
       "      <td>0</td>\n",
       "      <td>...</td>\n",
       "      <td>0</td>\n",
       "      <td>0</td>\n",
       "      <td>0</td>\n",
       "      <td>0</td>\n",
       "      <td>0</td>\n",
       "      <td>0</td>\n",
       "      <td>0</td>\n",
       "      <td>0</td>\n",
       "      <td>0</td>\n",
       "      <td>0</td>\n",
       "    </tr>\n",
       "    <tr>\n",
       "      <th>2</th>\n",
       "      <td>3</td>\n",
       "      <td>0</td>\n",
       "      <td>0</td>\n",
       "      <td>0</td>\n",
       "      <td>0</td>\n",
       "      <td>0</td>\n",
       "      <td>0</td>\n",
       "      <td>0</td>\n",
       "      <td>0</td>\n",
       "      <td>0</td>\n",
       "      <td>...</td>\n",
       "      <td>0</td>\n",
       "      <td>0</td>\n",
       "      <td>0</td>\n",
       "      <td>0</td>\n",
       "      <td>0</td>\n",
       "      <td>0</td>\n",
       "      <td>0</td>\n",
       "      <td>0</td>\n",
       "      <td>0</td>\n",
       "      <td>0</td>\n",
       "    </tr>\n",
       "    <tr>\n",
       "      <th>3</th>\n",
       "      <td>4</td>\n",
       "      <td>0</td>\n",
       "      <td>0</td>\n",
       "      <td>0</td>\n",
       "      <td>0</td>\n",
       "      <td>0</td>\n",
       "      <td>0</td>\n",
       "      <td>0</td>\n",
       "      <td>0</td>\n",
       "      <td>0</td>\n",
       "      <td>...</td>\n",
       "      <td>0</td>\n",
       "      <td>0</td>\n",
       "      <td>0</td>\n",
       "      <td>0</td>\n",
       "      <td>0</td>\n",
       "      <td>0</td>\n",
       "      <td>0</td>\n",
       "      <td>0</td>\n",
       "      <td>0</td>\n",
       "      <td>0</td>\n",
       "    </tr>\n",
       "    <tr>\n",
       "      <th>4</th>\n",
       "      <td>5</td>\n",
       "      <td>0</td>\n",
       "      <td>0</td>\n",
       "      <td>0</td>\n",
       "      <td>0</td>\n",
       "      <td>0</td>\n",
       "      <td>0</td>\n",
       "      <td>0</td>\n",
       "      <td>0</td>\n",
       "      <td>0</td>\n",
       "      <td>...</td>\n",
       "      <td>0</td>\n",
       "      <td>0</td>\n",
       "      <td>0</td>\n",
       "      <td>0</td>\n",
       "      <td>0</td>\n",
       "      <td>0</td>\n",
       "      <td>0</td>\n",
       "      <td>0</td>\n",
       "      <td>0</td>\n",
       "      <td>0</td>\n",
       "    </tr>\n",
       "  </tbody>\n",
       "</table>\n",
       "<p>5 rows × 65 columns</p>\n",
       "</div>"
      ],
      "text/plain": [
       "   review_id  title_AdventureQuest 3D  title_Aura Kingdom  title_Black Squad  \\\n",
       "0          1                        0                   0                  0   \n",
       "1          2                        0                   0                  0   \n",
       "2          3                        0                   0                  0   \n",
       "3          4                        0                   0                  0   \n",
       "4          5                        0                   0                  0   \n",
       "\n",
       "   title_Bless Online  title_Bloons TD Battles  title_Brawlhalla  \\\n",
       "0                   0                        0                 0   \n",
       "1                   0                        0                 0   \n",
       "2                   0                        0                 0   \n",
       "3                   0                        0                 0   \n",
       "4                   0                        0                 0   \n",
       "\n",
       "   title_Business Tour - Board Game with Online Multiplayer  \\\n",
       "0                                                  0          \n",
       "1                                                  0          \n",
       "2                                                  0          \n",
       "3                                                  0          \n",
       "4                                                  0          \n",
       "\n",
       "   title_Champions Online  title_Counter-Strike: Global Offensive  ...  \\\n",
       "0                       0                                       0  ...   \n",
       "1                       0                                       0  ...   \n",
       "2                       0                                       0  ...   \n",
       "3                       0                                       0  ...   \n",
       "4                       0                                       0  ...   \n",
       "\n",
       "   title_Tree of Savior (English Ver.)  title_Trove  title_VEGA Conflict  \\\n",
       "0                                    0            0                    0   \n",
       "1                                    0            0                    0   \n",
       "2                                    0            0                    0   \n",
       "3                                    0            0                    0   \n",
       "4                                    0            0                    0   \n",
       "\n",
       "   title_WARMODE  title_War Thunder  title_World of Guns: Gun Disassembly  \\\n",
       "0              0                  0                                     0   \n",
       "1              0                  0                                     0   \n",
       "2              0                  0                                     0   \n",
       "3              0                  0                                     0   \n",
       "4              0                  0                                     0   \n",
       "\n",
       "   title_World of Tanks Blitz  title_World of Warships  \\\n",
       "0                           0                        0   \n",
       "1                           0                        0   \n",
       "2                           0                        0   \n",
       "3                           0                        0   \n",
       "4                           0                        0   \n",
       "\n",
       "   title_Yu-Gi-Oh! Duel Links  title_theHunter Classic  \n",
       "0                           0                        0  \n",
       "1                           0                        0  \n",
       "2                           0                        0  \n",
       "3                           0                        0  \n",
       "4                           0                        0  \n",
       "\n",
       "[5 rows x 65 columns]"
      ]
     },
     "execution_count": 25,
     "metadata": {},
     "output_type": "execute_result"
    }
   ],
   "source": [
    "### Creating dummy variables of title ###\n",
    "dat = pd.concat([dat_1.loc[:,['review_id','title']],test_dat.loc[:,['review_id','title']]],axis = 0,ignore_index = True)\n",
    "dat = pd.get_dummies(dat)\n",
    "dat.head()"
   ]
  },
  {
   "cell_type": "code",
   "execution_count": 26,
   "metadata": {},
   "outputs": [
    {
     "name": "stdout",
     "output_type": "stream",
     "text": [
      "(17494, 69)\n",
      "(8045, 68)\n"
     ]
    }
   ],
   "source": [
    "## Merging with data ##\n",
    "dat_tr = pd.merge(dat_tr,dat,on = \"review_id\")\n",
    "dat_ts = pd.merge(dat_ts,dat,on = \"review_id\")\n",
    "\n",
    "print(dat_tr.shape)\n",
    "print(dat_ts.shape)"
   ]
  },
  {
   "cell_type": "code",
   "execution_count": 27,
   "metadata": {},
   "outputs": [
    {
     "data": {
      "text/html": [
       "<div>\n",
       "<style scoped>\n",
       "    .dataframe tbody tr th:only-of-type {\n",
       "        vertical-align: middle;\n",
       "    }\n",
       "\n",
       "    .dataframe tbody tr th {\n",
       "        vertical-align: top;\n",
       "    }\n",
       "\n",
       "    .dataframe thead th {\n",
       "        text-align: right;\n",
       "    }\n",
       "</style>\n",
       "<table border=\"1\" class=\"dataframe\">\n",
       "  <thead>\n",
       "    <tr style=\"text-align: right;\">\n",
       "      <th></th>\n",
       "      <th>review_id</th>\n",
       "      <th>title</th>\n",
       "      <th>year</th>\n",
       "      <th>user_review</th>\n",
       "    </tr>\n",
       "  </thead>\n",
       "  <tbody>\n",
       "    <tr>\n",
       "      <th>0</th>\n",
       "      <td>1603</td>\n",
       "      <td>Counter-Strike: Global Offensive</td>\n",
       "      <td>2015.0</td>\n",
       "      <td>nice graphics new maps weapons and models but ...</td>\n",
       "    </tr>\n",
       "    <tr>\n",
       "      <th>1</th>\n",
       "      <td>1604</td>\n",
       "      <td>Counter-Strike: Global Offensive</td>\n",
       "      <td>2018.0</td>\n",
       "      <td>i would not recommend getting into this at its...</td>\n",
       "    </tr>\n",
       "    <tr>\n",
       "      <th>2</th>\n",
       "      <td>1605</td>\n",
       "      <td>Counter-Strike: Global Offensive</td>\n",
       "      <td>2018.0</td>\n",
       "      <td>edit i have tried playing csgo recently and it...</td>\n",
       "    </tr>\n",
       "    <tr>\n",
       "      <th>3</th>\n",
       "      <td>1606</td>\n",
       "      <td>Counter-Strike: Global Offensive</td>\n",
       "      <td>2015.0</td>\n",
       "      <td>the game is great but the community is the wor...</td>\n",
       "    </tr>\n",
       "    <tr>\n",
       "      <th>4</th>\n",
       "      <td>1607</td>\n",
       "      <td>Counter-Strike: Global Offensive</td>\n",
       "      <td>2015.0</td>\n",
       "      <td>i thank trulyrazor for buying this for me a lo...</td>\n",
       "    </tr>\n",
       "  </tbody>\n",
       "</table>\n",
       "</div>"
      ],
      "text/plain": [
       "   review_id                             title    year  \\\n",
       "0       1603  Counter-Strike: Global Offensive  2015.0   \n",
       "1       1604  Counter-Strike: Global Offensive  2018.0   \n",
       "2       1605  Counter-Strike: Global Offensive  2018.0   \n",
       "3       1606  Counter-Strike: Global Offensive  2015.0   \n",
       "4       1607  Counter-Strike: Global Offensive  2015.0   \n",
       "\n",
       "                                         user_review  \n",
       "0  nice graphics new maps weapons and models but ...  \n",
       "1  i would not recommend getting into this at its...  \n",
       "2  edit i have tried playing csgo recently and it...  \n",
       "3  the game is great but the community is the wor...  \n",
       "4  i thank trulyrazor for buying this for me a lo...  "
      ]
     },
     "execution_count": 27,
     "metadata": {},
     "output_type": "execute_result"
    }
   ],
   "source": [
    "test_dat.head()"
   ]
  },
  {
   "cell_type": "code",
   "execution_count": 28,
   "metadata": {},
   "outputs": [
    {
     "name": "stdout",
     "output_type": "stream",
     "text": [
      "   review_id                        title    year  \\\n",
      "0          1  Spooky's Jump Scare Mansion  2016.0   \n",
      "1          2  Spooky's Jump Scare Mansion  2016.0   \n",
      "2          3  Spooky's Jump Scare Mansion  2016.0   \n",
      "3          4  Spooky's Jump Scare Mansion  2015.0   \n",
      "4          5  Spooky's Jump Scare Mansion  2015.0   \n",
      "\n",
      "                                         user_review user_suggestion  \\\n",
      "0  im scared and hearing creepy voices  so ill pa...               1   \n",
      "1  best game more better than sam peppers youtube...               1   \n",
      "2  a littly iffy on the controls but once you kno...               1   \n",
      "3  great game fun and colorful and all thata side...               1   \n",
      "4  not many games have the cute tag right next to...               1   \n",
      "\n",
      "   title_AdventureQuest 3D  title_Aura Kingdom  title_Black Squad  \\\n",
      "0                        0                   0                  0   \n",
      "1                        0                   0                  0   \n",
      "2                        0                   0                  0   \n",
      "3                        0                   0                  0   \n",
      "4                        0                   0                  0   \n",
      "\n",
      "   title_Bless Online  title_Bloons TD Battles  ...  \\\n",
      "0                   0                        0  ...   \n",
      "1                   0                        0  ...   \n",
      "2                   0                        0  ...   \n",
      "3                   0                        0  ...   \n",
      "4                   0                        0  ...   \n",
      "\n",
      "   title_Tree of Savior (English Ver.)  title_Trove  title_VEGA Conflict  \\\n",
      "0                                    0            0                    0   \n",
      "1                                    0            0                    0   \n",
      "2                                    0            0                    0   \n",
      "3                                    0            0                    0   \n",
      "4                                    0            0                    0   \n",
      "\n",
      "   title_WARMODE  title_War Thunder  title_World of Guns: Gun Disassembly  \\\n",
      "0              0                  0                                     0   \n",
      "1              0                  0                                     0   \n",
      "2              0                  0                                     0   \n",
      "3              0                  0                                     0   \n",
      "4              0                  0                                     0   \n",
      "\n",
      "   title_World of Tanks Blitz  title_World of Warships  \\\n",
      "0                           0                        0   \n",
      "1                           0                        0   \n",
      "2                           0                        0   \n",
      "3                           0                        0   \n",
      "4                           0                        0   \n",
      "\n",
      "   title_Yu-Gi-Oh! Duel Links  title_theHunter Classic  \n",
      "0                           0                        0  \n",
      "1                           0                        0  \n",
      "2                           0                        0  \n",
      "3                           0                        0  \n",
      "4                           0                        0  \n",
      "\n",
      "[5 rows x 69 columns]\n",
      "   review_id                             title    year  \\\n",
      "0       1603  Counter-Strike: Global Offensive  2015.0   \n",
      "1       1604  Counter-Strike: Global Offensive  2018.0   \n",
      "2       1605  Counter-Strike: Global Offensive  2018.0   \n",
      "3       1606  Counter-Strike: Global Offensive  2015.0   \n",
      "4       1607  Counter-Strike: Global Offensive  2015.0   \n",
      "\n",
      "                                         user_review  title_AdventureQuest 3D  \\\n",
      "0  nice graphics new maps weapons and models but ...                        0   \n",
      "1  i would not recommend getting into this at its...                        0   \n",
      "2  edit i have tried playing csgo recently and it...                        0   \n",
      "3  the game is great but the community is the wor...                        0   \n",
      "4  i thank trulyrazor for buying this for me a lo...                        0   \n",
      "\n",
      "   title_Aura Kingdom  title_Black Squad  title_Bless Online  \\\n",
      "0                   0                  0                   0   \n",
      "1                   0                  0                   0   \n",
      "2                   0                  0                   0   \n",
      "3                   0                  0                   0   \n",
      "4                   0                  0                   0   \n",
      "\n",
      "   title_Bloons TD Battles  title_Brawlhalla  ...  \\\n",
      "0                        0                 0  ...   \n",
      "1                        0                 0  ...   \n",
      "2                        0                 0  ...   \n",
      "3                        0                 0  ...   \n",
      "4                        0                 0  ...   \n",
      "\n",
      "   title_Tree of Savior (English Ver.)  title_Trove  title_VEGA Conflict  \\\n",
      "0                                    0            0                    0   \n",
      "1                                    0            0                    0   \n",
      "2                                    0            0                    0   \n",
      "3                                    0            0                    0   \n",
      "4                                    0            0                    0   \n",
      "\n",
      "   title_WARMODE  title_War Thunder  title_World of Guns: Gun Disassembly  \\\n",
      "0              0                  0                                     0   \n",
      "1              0                  0                                     0   \n",
      "2              0                  0                                     0   \n",
      "3              0                  0                                     0   \n",
      "4              0                  0                                     0   \n",
      "\n",
      "   title_World of Tanks Blitz  title_World of Warships  \\\n",
      "0                           0                        0   \n",
      "1                           0                        0   \n",
      "2                           0                        0   \n",
      "3                           0                        0   \n",
      "4                           0                        0   \n",
      "\n",
      "   title_Yu-Gi-Oh! Duel Links  title_theHunter Classic  \n",
      "0                           0                        0  \n",
      "1                           0                        0  \n",
      "2                           0                        0  \n",
      "3                           0                        0  \n",
      "4                           0                        0  \n",
      "\n",
      "[5 rows x 68 columns]\n"
     ]
    }
   ],
   "source": [
    "##################### Using Textblob #####################\n",
    "print(dat_tr.head())\n",
    "print(dat_ts.head())"
   ]
  },
  {
   "cell_type": "code",
   "execution_count": 29,
   "metadata": {},
   "outputs": [],
   "source": [
    "######### Using Textblob ############\n",
    "from textblob import TextBlob"
   ]
  },
  {
   "cell_type": "code",
   "execution_count": 30,
   "metadata": {},
   "outputs": [
    {
     "name": "stdout",
     "output_type": "stream",
     "text": [
      "     year                                        user_review user_suggestion  \\\n",
      "0  2016.0  im scared and hearing creepy voices  so ill pa...               1   \n",
      "1  2016.0  best game more better than sam peppers youtube...               1   \n",
      "2  2016.0  a littly iffy on the controls but once you kno...               1   \n",
      "3  2015.0  great game fun and colorful and all thata side...               1   \n",
      "4  2015.0  not many games have the cute tag right next to...               1   \n",
      "\n",
      "   title_AdventureQuest 3D  title_Aura Kingdom  title_Black Squad  \\\n",
      "0                        0                   0                  0   \n",
      "1                        0                   0                  0   \n",
      "2                        0                   0                  0   \n",
      "3                        0                   0                  0   \n",
      "4                        0                   0                  0   \n",
      "\n",
      "   title_Bless Online  title_Bloons TD Battles  title_Brawlhalla  \\\n",
      "0                   0                        0                 0   \n",
      "1                   0                        0                 0   \n",
      "2                   0                        0                 0   \n",
      "3                   0                        0                 0   \n",
      "4                   0                        0                 0   \n",
      "\n",
      "   title_Business Tour - Board Game with Online Multiplayer  ...  \\\n",
      "0                                                  0         ...   \n",
      "1                                                  0         ...   \n",
      "2                                                  0         ...   \n",
      "3                                                  0         ...   \n",
      "4                                                  0         ...   \n",
      "\n",
      "   title_Tree of Savior (English Ver.)  title_Trove  title_VEGA Conflict  \\\n",
      "0                                    0            0                    0   \n",
      "1                                    0            0                    0   \n",
      "2                                    0            0                    0   \n",
      "3                                    0            0                    0   \n",
      "4                                    0            0                    0   \n",
      "\n",
      "   title_WARMODE  title_War Thunder  title_World of Guns: Gun Disassembly  \\\n",
      "0              0                  0                                     0   \n",
      "1              0                  0                                     0   \n",
      "2              0                  0                                     0   \n",
      "3              0                  0                                     0   \n",
      "4              0                  0                                     0   \n",
      "\n",
      "   title_World of Tanks Blitz  title_World of Warships  \\\n",
      "0                           0                        0   \n",
      "1                           0                        0   \n",
      "2                           0                        0   \n",
      "3                           0                        0   \n",
      "4                           0                        0   \n",
      "\n",
      "   title_Yu-Gi-Oh! Duel Links  title_theHunter Classic  \n",
      "0                           0                        0  \n",
      "1                           0                        0  \n",
      "2                           0                        0  \n",
      "3                           0                        0  \n",
      "4                           0                        0  \n",
      "\n",
      "[5 rows x 67 columns]\n",
      "     year                                        user_review  \\\n",
      "0  2015.0  nice graphics new maps weapons and models but ...   \n",
      "1  2018.0  i would not recommend getting into this at its...   \n",
      "2  2018.0  edit i have tried playing csgo recently and it...   \n",
      "3  2015.0  the game is great but the community is the wor...   \n",
      "4  2015.0  i thank trulyrazor for buying this for me a lo...   \n",
      "\n",
      "   title_AdventureQuest 3D  title_Aura Kingdom  title_Black Squad  \\\n",
      "0                        0                   0                  0   \n",
      "1                        0                   0                  0   \n",
      "2                        0                   0                  0   \n",
      "3                        0                   0                  0   \n",
      "4                        0                   0                  0   \n",
      "\n",
      "   title_Bless Online  title_Bloons TD Battles  title_Brawlhalla  \\\n",
      "0                   0                        0                 0   \n",
      "1                   0                        0                 0   \n",
      "2                   0                        0                 0   \n",
      "3                   0                        0                 0   \n",
      "4                   0                        0                 0   \n",
      "\n",
      "   title_Business Tour - Board Game with Online Multiplayer  \\\n",
      "0                                                  0          \n",
      "1                                                  0          \n",
      "2                                                  0          \n",
      "3                                                  0          \n",
      "4                                                  0          \n",
      "\n",
      "   title_Champions Online  ...  title_Tree of Savior (English Ver.)  \\\n",
      "0                       0  ...                                    0   \n",
      "1                       0  ...                                    0   \n",
      "2                       0  ...                                    0   \n",
      "3                       0  ...                                    0   \n",
      "4                       0  ...                                    0   \n",
      "\n",
      "   title_Trove  title_VEGA Conflict  title_WARMODE  title_War Thunder  \\\n",
      "0            0                    0              0                  0   \n",
      "1            0                    0              0                  0   \n",
      "2            0                    0              0                  0   \n",
      "3            0                    0              0                  0   \n",
      "4            0                    0              0                  0   \n",
      "\n",
      "   title_World of Guns: Gun Disassembly  title_World of Tanks Blitz  \\\n",
      "0                                     0                           0   \n",
      "1                                     0                           0   \n",
      "2                                     0                           0   \n",
      "3                                     0                           0   \n",
      "4                                     0                           0   \n",
      "\n",
      "   title_World of Warships  title_Yu-Gi-Oh! Duel Links  \\\n",
      "0                        0                           0   \n",
      "1                        0                           0   \n",
      "2                        0                           0   \n",
      "3                        0                           0   \n",
      "4                        0                           0   \n",
      "\n",
      "   title_theHunter Classic  \n",
      "0                        0  \n",
      "1                        0  \n",
      "2                        0  \n",
      "3                        0  \n",
      "4                        0  \n",
      "\n",
      "[5 rows x 66 columns]\n"
     ]
    }
   ],
   "source": [
    "#### Creating Textdata\n",
    "txt_dt_tr = pd.DataFrame(dat_tr.iloc[:,2:len(dat_tr)])\n",
    "txt_dt_ts = pd.DataFrame(dat_ts.iloc[:,2:len(dat_ts)])\n",
    "print(txt_dt_tr.head())\n",
    "print(txt_dt_ts.head())"
   ]
  },
  {
   "cell_type": "code",
   "execution_count": 31,
   "metadata": {},
   "outputs": [],
   "source": [
    "########## Creating two new variables polarity score and subjectivity ############\n",
    "def polarity(text):\n",
    "    try:\n",
    "        return TextBlob(text).polarity\n",
    "    except:\n",
    "        return None\n",
    "    \n",
    "def subjectivity(text):\n",
    "    try:\n",
    "        return TextBlob(text).subjectivity\n",
    "    except:\n",
    "        return None\n",
    "    \n",
    "txt_dt_tr['polarity'] = txt_dt_tr['user_review'].apply(polarity)\n",
    "txt_dt_tr['subjectivity'] = txt_dt_tr['user_review'].apply(subjectivity)"
   ]
  },
  {
   "cell_type": "code",
   "execution_count": 50,
   "metadata": {},
   "outputs": [],
   "source": [
    "txt_dt_ts['polarity'] = txt_dt_ts['user_review'].apply(polarity)\n",
    "txt_dt_ts['subjectivity'] = txt_dt_ts['user_review'].apply(subjectivity)"
   ]
  },
  {
   "cell_type": "code",
   "execution_count": 51,
   "metadata": {},
   "outputs": [
    {
     "name": "stdout",
     "output_type": "stream",
     "text": [
      "     year                                        user_review  user_suggestion  \\\n",
      "0  2016.0  im scared and hearing creepy voices  so ill pa...                1   \n",
      "1  2016.0  best game more better than sam peppers youtube...                1   \n",
      "2  2016.0  a littly iffy on the controls but once you kno...                1   \n",
      "3  2015.0  great game fun and colorful and all thata side...                1   \n",
      "4  2015.0  not many games have the cute tag right next to...                1   \n",
      "\n",
      "   polarity  subjectivity  \n",
      "0 -0.080556      0.677778  \n",
      "1  0.228571      0.471429  \n",
      "2  0.011374      0.577554  \n",
      "3  0.214286      0.550000  \n",
      "4  0.045408      0.457313  \n",
      "     year                                        user_review  polarity  \\\n",
      "0  2015.0  nice graphics new maps weapons and models but ...  0.239394   \n",
      "1  2018.0  i would not recommend getting into this at its... -0.204293   \n",
      "2  2018.0  edit i have tried playing csgo recently and it...  0.023715   \n",
      "3  2015.0  the game is great but the community is the wor... -0.067803   \n",
      "4  2015.0  i thank trulyrazor for buying this for me a lo...  0.006981   \n",
      "\n",
      "   subjectivity  \n",
      "0      0.559091  \n",
      "1      0.394949  \n",
      "2      0.513000  \n",
      "3      0.603409  \n",
      "4      0.501034  \n"
     ]
    }
   ],
   "source": [
    "print(txt_dt_tr.head())\n",
    "print(txt_dt_ts.head())"
   ]
  },
  {
   "cell_type": "code",
   "execution_count": 29,
   "metadata": {},
   "outputs": [
    {
     "name": "stdout",
     "output_type": "stream",
     "text": [
      "     year user_suggestion  title_AdventureQuest 3D  title_Aura Kingdom  \\\n",
      "0  2016.0               1                        0                   0   \n",
      "1  2016.0               1                        0                   0   \n",
      "2  2016.0               1                        0                   0   \n",
      "3  2015.0               1                        0                   0   \n",
      "4  2015.0               1                        0                   0   \n",
      "\n",
      "   title_Black Squad  title_Bless Online  title_Bloons TD Battles  \\\n",
      "0                  0                   0                        0   \n",
      "1                  0                   0                        0   \n",
      "2                  0                   0                        0   \n",
      "3                  0                   0                        0   \n",
      "4                  0                   0                        0   \n",
      "\n",
      "   title_Brawlhalla  title_Business Tour - Board Game with Online Multiplayer  \\\n",
      "0                 0                                                  0          \n",
      "1                 0                                                  0          \n",
      "2                 0                                                  0          \n",
      "3                 0                                                  0          \n",
      "4                 0                                                  0          \n",
      "\n",
      "   title_Champions Online  ...  title_VEGA Conflict  title_WARMODE  \\\n",
      "0                       0  ...                    0              0   \n",
      "1                       0  ...                    0              0   \n",
      "2                       0  ...                    0              0   \n",
      "3                       0  ...                    0              0   \n",
      "4                       0  ...                    0              0   \n",
      "\n",
      "   title_War Thunder  title_World of Guns: Gun Disassembly  \\\n",
      "0                  0                                     0   \n",
      "1                  0                                     0   \n",
      "2                  0                                     0   \n",
      "3                  0                                     0   \n",
      "4                  0                                     0   \n",
      "\n",
      "   title_World of Tanks Blitz  title_World of Warships  \\\n",
      "0                           0                        0   \n",
      "1                           0                        0   \n",
      "2                           0                        0   \n",
      "3                           0                        0   \n",
      "4                           0                        0   \n",
      "\n",
      "   title_Yu-Gi-Oh! Duel Links  title_theHunter Classic  polarity  subjectivity  \n",
      "0                           0                        0 -0.080556      0.677778  \n",
      "1                           0                        0  0.228571      0.471429  \n",
      "2                           0                        0  0.011374      0.577554  \n",
      "3                           0                        0  0.214286      0.550000  \n",
      "4                           0                        0  0.045408      0.457313  \n",
      "\n",
      "[5 rows x 68 columns]\n",
      "     year  title_AdventureQuest 3D  title_Aura Kingdom  title_Black Squad  \\\n",
      "0  2015.0                        0                   0                  0   \n",
      "1  2018.0                        0                   0                  0   \n",
      "2  2018.0                        0                   0                  0   \n",
      "3  2015.0                        0                   0                  0   \n",
      "4  2015.0                        0                   0                  0   \n",
      "\n",
      "   title_Bless Online  title_Bloons TD Battles  title_Brawlhalla  \\\n",
      "0                   0                        0                 0   \n",
      "1                   0                        0                 0   \n",
      "2                   0                        0                 0   \n",
      "3                   0                        0                 0   \n",
      "4                   0                        0                 0   \n",
      "\n",
      "   title_Business Tour - Board Game with Online Multiplayer  \\\n",
      "0                                                  0          \n",
      "1                                                  0          \n",
      "2                                                  0          \n",
      "3                                                  0          \n",
      "4                                                  0          \n",
      "\n",
      "   title_Champions Online  title_Counter-Strike: Global Offensive  ...  \\\n",
      "0                       0                                       1  ...   \n",
      "1                       0                                       1  ...   \n",
      "2                       0                                       1  ...   \n",
      "3                       0                                       1  ...   \n",
      "4                       0                                       1  ...   \n",
      "\n",
      "   title_VEGA Conflict  title_WARMODE  title_War Thunder  \\\n",
      "0                    0              0                  0   \n",
      "1                    0              0                  0   \n",
      "2                    0              0                  0   \n",
      "3                    0              0                  0   \n",
      "4                    0              0                  0   \n",
      "\n",
      "   title_World of Guns: Gun Disassembly  title_World of Tanks Blitz  \\\n",
      "0                                     0                           0   \n",
      "1                                     0                           0   \n",
      "2                                     0                           0   \n",
      "3                                     0                           0   \n",
      "4                                     0                           0   \n",
      "\n",
      "   title_World of Warships  title_Yu-Gi-Oh! Duel Links  \\\n",
      "0                        0                           0   \n",
      "1                        0                           0   \n",
      "2                        0                           0   \n",
      "3                        0                           0   \n",
      "4                        0                           0   \n",
      "\n",
      "   title_theHunter Classic  polarity  subjectivity  \n",
      "0                        0  0.239394      0.559091  \n",
      "1                        0 -0.204293      0.394949  \n",
      "2                        0  0.023715      0.513000  \n",
      "3                        0 -0.067803      0.603409  \n",
      "4                        0  0.006981      0.501034  \n",
      "\n",
      "[5 rows x 67 columns]\n"
     ]
    }
   ],
   "source": [
    "txt_dt_tr = txt_dt_tr.drop(columns = ['user_review'])\n",
    "txt_dt_ts = txt_dt_ts.drop(columns = ['user_review'])\n",
    "print(txt_dt_tr.head())\n",
    "print(txt_dt_ts.head())"
   ]
  },
  {
   "cell_type": "code",
   "execution_count": 30,
   "metadata": {},
   "outputs": [
    {
     "name": "stdout",
     "output_type": "stream",
     "text": [
      "(13120, 67)\n",
      "(13120,)\n",
      "(4374, 67)\n",
      "(4374,)\n"
     ]
    }
   ],
   "source": [
    "##### Splitting Data in Train and Test #####\n",
    "import sklearn\n",
    "from sklearn.model_selection import train_test_split\n",
    "\n",
    "x = txt_dt_tr.drop(columns = ['user_suggestion'])\n",
    "y = txt_dt_tr.loc[:,'user_suggestion']\n",
    "\n",
    "x_trn, x_tst, y_trn, y_tst = train_test_split(x,y,test_size = 0.25, random_state = 101)\n",
    "\n",
    "### Train ###\n",
    "print(x_trn.shape)\n",
    "print(y_trn.shape)\n",
    "\n",
    "### Test ###\n",
    "print(x_tst.shape)\n",
    "print(y_tst.shape)"
   ]
  },
  {
   "cell_type": "code",
   "execution_count": 31,
   "metadata": {},
   "outputs": [
    {
     "name": "stdout",
     "output_type": "stream",
     "text": [
      "{'n_estimators': [1000, 1001, 1002, 1003, 1004, 1005, 1006, 1007, 1008, 1009, 1010, 1011, 1012, 1013, 1014, 1015, 1016, 1017, 1018, 1019, 1020, 1021, 1022, 1023, 1024, 1025, 1026, 1027, 1028, 1029, 1030, 1031, 1032, 1033, 1034, 1035, 1036, 1037, 1038, 1039, 1040, 1041, 1042, 1043, 1044, 1045, 1046, 1047, 1048, 1049, 1050, 1051, 1052, 1053, 1054, 1055, 1056, 1057, 1058, 1059, 1060, 1061, 1062, 1063, 1064, 1065, 1066, 1067, 1068, 1069, 1070, 1071, 1072, 1073, 1074, 1075, 1076, 1077, 1078, 1079, 1080, 1081, 1082, 1083, 1084, 1085, 1086, 1087, 1088, 1089, 1090, 1091, 1092, 1093, 1094, 1095, 1096, 1097, 1098, 1099, 1100, 1101, 1102, 1103, 1104, 1105, 1106, 1107, 1108, 1109, 1110, 1111, 1112, 1113, 1114, 1115, 1116, 1117, 1118, 1119, 1120, 1121, 1122, 1123, 1124, 1125, 1126, 1127, 1128, 1129, 1130, 1131, 1132, 1133, 1134, 1135, 1136, 1137, 1138, 1139, 1140, 1141, 1142, 1143, 1144, 1145, 1146, 1147, 1148, 1149, 1150, 1151, 1152, 1153, 1154, 1155, 1156, 1157, 1158, 1159, 1160, 1161, 1162, 1163, 1164, 1165, 1166, 1167, 1168, 1169, 1170, 1171, 1172, 1173, 1174, 1175, 1176, 1177, 1178, 1179, 1180, 1181, 1182, 1183, 1184, 1185, 1186, 1187, 1188, 1189, 1190, 1191, 1192, 1193, 1194, 1195, 1196, 1197, 1198, 1200], 'max_features': ['auto', 'sqrt'], 'max_depth': [1, 4, 7, 10, 13, 16, 19, 22, 25, 28, 32, 35, 38, 41, 44, 47, 50, 53, 56, 60, None], 'min_samples_split': [1, 2, 3, 4], 'min_samples_leaf': [1, 2, 4], 'bootstrap': [True, False]}\n"
     ]
    }
   ],
   "source": [
    "# Number of trees in random forest\n",
    "n_estimators = [int(x) for x in np.linspace(start = 1000, stop = 1200, num = 200)]\n",
    "# Number of features to consider at every split\n",
    "max_features = ['auto', 'sqrt']\n",
    "# Maximum number of levels in tree\n",
    "max_depth = [int(x) for x in np.linspace(1, 60, num = 20)]\n",
    "max_depth.append(None)\n",
    "# Minimum number of samples required to split a node\n",
    "min_samples_split = [1,2,3,4]\n",
    "# Minimum number of samples required at each leaf node\n",
    "min_samples_leaf = [1, 2, 4]\n",
    "# Method of selecting samples for training each tree\n",
    "bootstrap = [True, False]\n",
    "\n",
    "# Create the random grid\n",
    "random_grid = {'n_estimators': n_estimators,\n",
    "               'max_features': max_features,\n",
    "               'max_depth': max_depth,\n",
    "               'min_samples_split': min_samples_split,\n",
    "               'min_samples_leaf': min_samples_leaf,\n",
    "               'bootstrap': bootstrap}\n",
    "print(random_grid)"
   ]
  },
  {
   "cell_type": "code",
   "execution_count": 105,
   "metadata": {},
   "outputs": [
    {
     "name": "stdout",
     "output_type": "stream",
     "text": [
      "Fitting 5 folds for each of 10 candidates, totalling 50 fits\n"
     ]
    },
    {
     "name": "stderr",
     "output_type": "stream",
     "text": [
      "[Parallel(n_jobs=-1)]: Using backend LokyBackend with 4 concurrent workers.\n",
      "[Parallel(n_jobs=-1)]: Done  33 tasks      | elapsed:  7.3min\n",
      "[Parallel(n_jobs=-1)]: Done  50 out of  50 | elapsed: 13.2min finished\n"
     ]
    },
    {
     "name": "stdout",
     "output_type": "stream",
     "text": [
      "{'n_estimators': 1086, 'min_samples_split': 3, 'min_samples_leaf': 4, 'max_features': 'auto', 'max_depth': 35, 'bootstrap': True}\n"
     ]
    }
   ],
   "source": [
    "from sklearn.ensemble import RandomForestClassifier\n",
    "from sklearn.model_selection import RandomizedSearchCV\n",
    "randm = RandomForestClassifier(random_state = 43)\n",
    "random = RandomizedSearchCV(estimator = randm, param_distributions = random_grid, cv = 5, verbose=2, random_state=42, n_jobs = -1)\n",
    "random.fit(x_trn,y_trn)\n",
    "\n",
    "print(random.best_params_)"
   ]
  },
  {
   "cell_type": "code",
   "execution_count": 45,
   "metadata": {},
   "outputs": [],
   "source": [
    "##### Random Forest Model #####\n",
    "from sklearn.ensemble import RandomForestClassifier\n",
    "randm = RandomForestClassifier(n_estimators = 1086,min_samples_split = 3,max_features = 'auto',min_samples_leaf = 4,max_depth = 35,bootstrap = True,random_state = 73)\n",
    "\n",
    "#random = RandomizedSearchCV(estimator = randm, param_distributions = random_grid, cv = 5, verbose=2, random_state=42, n_jobs = -1)\n",
    "#random.fit(x_trn,y_trn)\n",
    "\n",
    "# print results\n",
    "#print(random.best_params_)\n",
    "\n",
    "## Fitting the model ##\n",
    "randm_model = randm.fit(x_trn,y_trn)"
   ]
  },
  {
   "cell_type": "code",
   "execution_count": 46,
   "metadata": {},
   "outputs": [],
   "source": [
    "## Fitting the model ##\n",
    "# randm_model = randm.fit(x_trn,y_trn)"
   ]
  },
  {
   "cell_type": "code",
   "execution_count": 47,
   "metadata": {},
   "outputs": [
    {
     "data": {
      "text/plain": [
       "array([1, 0, 1, ..., 0, 1, 1], dtype=int64)"
      ]
     },
     "execution_count": 47,
     "metadata": {},
     "output_type": "execute_result"
    }
   ],
   "source": [
    "## Predicting Values ##\n",
    "pred_value_rf = randm.predict(x_tst)\n",
    "pred_value_rf"
   ]
  },
  {
   "cell_type": "code",
   "execution_count": 48,
   "metadata": {},
   "outputs": [],
   "source": [
    "from sklearn.metrics import accuracy_score, confusion_matrix, recall_score, roc_auc_score, precision_score"
   ]
  },
  {
   "cell_type": "code",
   "execution_count": 49,
   "metadata": {},
   "outputs": [
    {
     "data": {
      "text/plain": [
       "array([[1291,  570],\n",
       "       [ 364, 2149]], dtype=int64)"
      ]
     },
     "execution_count": 49,
     "metadata": {},
     "output_type": "execute_result"
    }
   ],
   "source": [
    "## Confusion matrix ##\n",
    "from sklearn.metrics import confusion_matrix,classification_report\n",
    "\n",
    "confusion_matrix(y_tst, pred_value_rf)"
   ]
  },
  {
   "cell_type": "code",
   "execution_count": 50,
   "metadata": {},
   "outputs": [
    {
     "name": "stdout",
     "output_type": "stream",
     "text": [
      "              precision    recall  f1-score   support\n",
      "\n",
      "           0      0.780     0.694     0.734      1861\n",
      "           1      0.790     0.855     0.821      2513\n",
      "\n",
      "    accuracy                          0.786      4374\n",
      "   macro avg      0.785     0.774     0.778      4374\n",
      "weighted avg      0.786     0.786     0.784      4374\n",
      "\n"
     ]
    }
   ],
   "source": [
    "## Classification Report ##\n",
    "print(classification_report(y_tst, pred_value_rf, digits=3))"
   ]
  },
  {
   "cell_type": "code",
   "execution_count": 129,
   "metadata": {},
   "outputs": [],
   "source": [
    "########### GBM Model ###########\n",
    "from sklearn.ensemble import GradientBoostingClassifier\n",
    "from sklearn.metrics import classification_report\n",
    "from sklearn.model_selection import GridSearchCV\n",
    "\n",
    "gbm = GradientBoostingClassifier(learning_rate=0.05, n_estimators=500,max_depth=3, min_samples_split=4,min_samples_leaf = 1,max_features='sqrt', random_state=43)\n",
    "gbm_mdl = gbm.fit(x_trn,y_trn)"
   ]
  },
  {
   "cell_type": "code",
   "execution_count": 130,
   "metadata": {},
   "outputs": [
    {
     "name": "stdout",
     "output_type": "stream",
     "text": [
      "              precision    recall  f1-score   support\n",
      "\n",
      "           0      0.781     0.706     0.742      1861\n",
      "           1      0.797     0.853     0.824      2513\n",
      "\n",
      "    accuracy                          0.791      4374\n",
      "   macro avg      0.789     0.780     0.783      4374\n",
      "weighted avg      0.790     0.791     0.789      4374\n",
      "\n"
     ]
    }
   ],
   "source": [
    "pred_gbm = gbm_mdl.predict(x_tst)\n",
    "print(classification_report(y_tst, pred_gbm,digits=3))"
   ]
  },
  {
   "cell_type": "code",
   "execution_count": 101,
   "metadata": {},
   "outputs": [
    {
     "data": {
      "text/html": [
       "<div>\n",
       "<style scoped>\n",
       "    .dataframe tbody tr th:only-of-type {\n",
       "        vertical-align: middle;\n",
       "    }\n",
       "\n",
       "    .dataframe tbody tr th {\n",
       "        vertical-align: top;\n",
       "    }\n",
       "\n",
       "    .dataframe thead th {\n",
       "        text-align: right;\n",
       "    }\n",
       "</style>\n",
       "<table border=\"1\" class=\"dataframe\">\n",
       "  <thead>\n",
       "    <tr style=\"text-align: right;\">\n",
       "      <th></th>\n",
       "      <th>review_id</th>\n",
       "      <th>0</th>\n",
       "    </tr>\n",
       "  </thead>\n",
       "  <tbody>\n",
       "    <tr>\n",
       "      <th>0</th>\n",
       "      <td>1603</td>\n",
       "      <td>1</td>\n",
       "    </tr>\n",
       "    <tr>\n",
       "      <th>1</th>\n",
       "      <td>1604</td>\n",
       "      <td>0</td>\n",
       "    </tr>\n",
       "    <tr>\n",
       "      <th>2</th>\n",
       "      <td>1605</td>\n",
       "      <td>0</td>\n",
       "    </tr>\n",
       "    <tr>\n",
       "      <th>3</th>\n",
       "      <td>1606</td>\n",
       "      <td>1</td>\n",
       "    </tr>\n",
       "    <tr>\n",
       "      <th>4</th>\n",
       "      <td>1607</td>\n",
       "      <td>1</td>\n",
       "    </tr>\n",
       "  </tbody>\n",
       "</table>\n",
       "</div>"
      ],
      "text/plain": [
       "   review_id  0\n",
       "0       1603  1\n",
       "1       1604  0\n",
       "2       1605  0\n",
       "3       1606  1\n",
       "4       1607  1"
      ]
     },
     "execution_count": 101,
     "metadata": {},
     "output_type": "execute_result"
    }
   ],
   "source": [
    "##### Final Prediction ####\n",
    "\n",
    "final_predict = pd.DataFrame(gbm_mdl.predict(txt_dt_ts))\n",
    "\n",
    "\n",
    "finl_sub = pd.concat([test_dat['review_id'],final_predict[0]],axis = 1)\n",
    "finl_sub.head()"
   ]
  },
  {
   "cell_type": "code",
   "execution_count": 102,
   "metadata": {},
   "outputs": [],
   "source": [
    "finl_sub.to_csv(r'C:\\Users\\NAVIN\\Desktop\\Janta Hack\\final_submission.csv')"
   ]
  },
  {
   "cell_type": "code",
   "execution_count": 118,
   "metadata": {},
   "outputs": [
    {
     "name": "stderr",
     "output_type": "stream",
     "text": [
      "C:\\Users\\NAVIN\\Anaconda3\\lib\\site-packages\\sklearn\\model_selection\\_search.py:823: FutureWarning: The parameter 'iid' is deprecated in 0.22 and will be removed in 0.24.\n",
      "  \"removed in 0.24.\", FutureWarning\n"
     ]
    },
    {
     "data": {
      "text/plain": [
       "{'learning_rate': 0.05, 'n_estimators': 500}"
      ]
     },
     "execution_count": 118,
     "metadata": {},
     "output_type": "execute_result"
    }
   ],
   "source": [
    "p_test3 = {'learning_rate':[0.05,0.011,0.01], 'n_estimators':[500,750,1000]}\n",
    "\n",
    "tuning = GridSearchCV(estimator =GradientBoostingClassifier(max_depth=4, subsample=1,max_features='sqrt', random_state=10), \n",
    "            param_grid = p_test3, scoring='accuracy',n_jobs=4,iid=False, cv=5)\n",
    "tuning.fit(x_trn,y_trn)\n",
    "tuning.best_params_"
   ]
  },
  {
   "cell_type": "code",
   "execution_count": 123,
   "metadata": {},
   "outputs": [
    {
     "name": "stderr",
     "output_type": "stream",
     "text": [
      "C:\\Users\\NAVIN\\Anaconda3\\lib\\site-packages\\sklearn\\model_selection\\_search.py:823: FutureWarning: The parameter 'iid' is deprecated in 0.22 and will be removed in 0.24.\n",
      "  \"removed in 0.24.\", FutureWarning\n"
     ]
    },
    {
     "data": {
      "text/plain": [
       "{'max_depth': 3}"
      ]
     },
     "execution_count": 123,
     "metadata": {},
     "output_type": "execute_result"
    }
   ],
   "source": [
    "p_test2 = {'max_depth':[2,3,4,5,6,7,8,9,10] }\n",
    "tuning = GridSearchCV(estimator =GradientBoostingClassifier(learning_rate=0.05,n_estimators=500, min_samples_split=2, min_samples_leaf=1, subsample=1,max_features='sqrt', random_state=10), \n",
    "            param_grid = p_test2, scoring='accuracy',n_jobs=4,iid=False, cv=5)\n",
    "tuning.fit(x_trn,y_trn)\n",
    "tuning.best_params_"
   ]
  },
  {
   "cell_type": "code",
   "execution_count": 126,
   "metadata": {},
   "outputs": [
    {
     "name": "stderr",
     "output_type": "stream",
     "text": [
      "C:\\Users\\NAVIN\\Anaconda3\\lib\\site-packages\\sklearn\\model_selection\\_search.py:823: FutureWarning: The parameter 'iid' is deprecated in 0.22 and will be removed in 0.24.\n",
      "  \"removed in 0.24.\", FutureWarning\n"
     ]
    },
    {
     "data": {
      "text/plain": [
       "{'min_samples_leaf': 1, 'min_samples_split': 4}"
      ]
     },
     "execution_count": 126,
     "metadata": {},
     "output_type": "execute_result"
    }
   ],
   "source": [
    "p_test4 = {'min_samples_split':[2,4,6,8,10,20,40,60,100], 'min_samples_leaf':[1,3,5,7,9]}\n",
    "\n",
    "tuning = GridSearchCV(estimator =GradientBoostingClassifier(learning_rate=0.05, n_estimators=500,max_depth=3, subsample=1,max_features='sqrt', random_state=10), \n",
    "            param_grid = p_test4, scoring='accuracy',n_jobs=4,iid=False, cv=5)\n",
    "tuning.fit(x_trn,y_trn)\n",
    "tuning.best_params_"
   ]
  },
  {
   "cell_type": "code",
   "execution_count": null,
   "metadata": {},
   "outputs": [],
   "source": []
  }
 ],
 "metadata": {
  "kernelspec": {
   "display_name": "Python 3",
   "language": "python",
   "name": "python3"
  },
  "language_info": {
   "codemirror_mode": {
    "name": "ipython",
    "version": 3
   },
   "file_extension": ".py",
   "mimetype": "text/x-python",
   "name": "python",
   "nbconvert_exporter": "python",
   "pygments_lexer": "ipython3",
   "version": "3.7.3"
  }
 },
 "nbformat": 4,
 "nbformat_minor": 4
}
